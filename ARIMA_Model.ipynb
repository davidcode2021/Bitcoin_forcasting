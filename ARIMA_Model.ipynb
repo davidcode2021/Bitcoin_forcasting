{
 "cells": [
  {
   "cell_type": "code",
   "execution_count": 1,
   "metadata": {},
   "outputs": [],
   "source": [
    "import pandas as pd"
   ]
  },
  {
   "cell_type": "code",
   "execution_count": 2,
   "metadata": {},
   "outputs": [],
   "source": [
    "df=pd.read_csv(\"Bitcoin_from2010.csv\",sep=\";\")"
   ]
  },
  {
   "cell_type": "code",
   "execution_count": 3,
   "metadata": {
    "scrolled": true
   },
   "outputs": [
    {
     "data": {
      "text/html": [
       "<div>\n",
       "<style scoped>\n",
       "    .dataframe tbody tr th:only-of-type {\n",
       "        vertical-align: middle;\n",
       "    }\n",
       "\n",
       "    .dataframe tbody tr th {\n",
       "        vertical-align: top;\n",
       "    }\n",
       "\n",
       "    .dataframe thead th {\n",
       "        text-align: right;\n",
       "    }\n",
       "</style>\n",
       "<table border=\"1\" class=\"dataframe\">\n",
       "  <thead>\n",
       "    <tr style=\"text-align: right;\">\n",
       "      <th></th>\n",
       "      <th>timeOpen</th>\n",
       "      <th>timeClose</th>\n",
       "      <th>timeHigh</th>\n",
       "      <th>timeLow</th>\n",
       "      <th>open</th>\n",
       "      <th>high</th>\n",
       "      <th>low</th>\n",
       "      <th>close</th>\n",
       "      <th>volume</th>\n",
       "      <th>marketCap</th>\n",
       "      <th>timestamp</th>\n",
       "    </tr>\n",
       "  </thead>\n",
       "  <tbody>\n",
       "    <tr>\n",
       "      <th>0</th>\n",
       "      <td>2023-10-16T00:00:00.000Z</td>\n",
       "      <td>2023-10-16T23:59:59.999Z</td>\n",
       "      <td>2023-10-16T13:33:00.000Z</td>\n",
       "      <td>2023-10-16T00:46:00.000Z</td>\n",
       "      <td>27162.628229</td>\n",
       "      <td>29448.139037</td>\n",
       "      <td>27130.473478</td>\n",
       "      <td>28519.466679</td>\n",
       "      <td>2.783388e+10</td>\n",
       "      <td>5.565775e+11</td>\n",
       "      <td>2023-10-16T23:59:59.999Z</td>\n",
       "    </tr>\n",
       "    <tr>\n",
       "      <th>1</th>\n",
       "      <td>2023-10-15T00:00:00.000Z</td>\n",
       "      <td>2023-10-15T23:59:59.999Z</td>\n",
       "      <td>2023-10-15T22:12:00.000Z</td>\n",
       "      <td>2023-10-15T13:06:00.000Z</td>\n",
       "      <td>26858.011726</td>\n",
       "      <td>27289.170319</td>\n",
       "      <td>26817.894010</td>\n",
       "      <td>27159.652919</td>\n",
       "      <td>7.098202e+09</td>\n",
       "      <td>5.300170e+11</td>\n",
       "      <td>2023-10-15T23:59:59.999Z</td>\n",
       "    </tr>\n",
       "    <tr>\n",
       "      <th>2</th>\n",
       "      <td>2023-10-14T00:00:00.000Z</td>\n",
       "      <td>2023-10-14T23:59:59.999Z</td>\n",
       "      <td>2023-10-14T03:38:00.000Z</td>\n",
       "      <td>2023-10-14T21:30:00.000Z</td>\n",
       "      <td>26866.203245</td>\n",
       "      <td>26968.999218</td>\n",
       "      <td>26814.586586</td>\n",
       "      <td>26861.706203</td>\n",
       "      <td>5.388117e+09</td>\n",
       "      <td>5.241741e+11</td>\n",
       "      <td>2023-10-14T23:59:59.999Z</td>\n",
       "    </tr>\n",
       "    <tr>\n",
       "      <th>3</th>\n",
       "      <td>2023-10-13T00:00:00.000Z</td>\n",
       "      <td>2023-10-13T23:59:59.999Z</td>\n",
       "      <td>2023-10-13T21:03:00.000Z</td>\n",
       "      <td>2023-10-13T17:35:00.000Z</td>\n",
       "      <td>26752.879558</td>\n",
       "      <td>27092.696746</td>\n",
       "      <td>26686.322309</td>\n",
       "      <td>26862.375446</td>\n",
       "      <td>1.516531e+10</td>\n",
       "      <td>5.241622e+11</td>\n",
       "      <td>2023-10-13T23:59:59.999Z</td>\n",
       "    </tr>\n",
       "    <tr>\n",
       "      <th>4</th>\n",
       "      <td>2023-10-12T00:00:00.000Z</td>\n",
       "      <td>2023-10-12T23:59:59.999Z</td>\n",
       "      <td>2023-10-12T02:55:00.000Z</td>\n",
       "      <td>2023-10-12T17:36:00.000Z</td>\n",
       "      <td>26873.292491</td>\n",
       "      <td>26921.438903</td>\n",
       "      <td>26558.320784</td>\n",
       "      <td>26756.798639</td>\n",
       "      <td>9.392909e+09</td>\n",
       "      <td>5.220780e+11</td>\n",
       "      <td>2023-10-12T23:59:59.999Z</td>\n",
       "    </tr>\n",
       "    <tr>\n",
       "      <th>...</th>\n",
       "      <td>...</td>\n",
       "      <td>...</td>\n",
       "      <td>...</td>\n",
       "      <td>...</td>\n",
       "      <td>...</td>\n",
       "      <td>...</td>\n",
       "      <td>...</td>\n",
       "      <td>...</td>\n",
       "      <td>...</td>\n",
       "      <td>...</td>\n",
       "      <td>...</td>\n",
       "    </tr>\n",
       "    <tr>\n",
       "      <th>4784</th>\n",
       "      <td>2010-09-10T00:00:00.000Z</td>\n",
       "      <td>2010-09-10T23:59:59.999Z</td>\n",
       "      <td>2010-09-10T10:56:00.000Z</td>\n",
       "      <td>2010-09-10T04:05:00.000Z</td>\n",
       "      <td>0.060507</td>\n",
       "      <td>0.063796</td>\n",
       "      <td>0.050523</td>\n",
       "      <td>0.060196</td>\n",
       "      <td>4.936590e+03</td>\n",
       "      <td>2.379515e+05</td>\n",
       "      <td>2010-09-10T23:59:59.999Z</td>\n",
       "    </tr>\n",
       "    <tr>\n",
       "      <th>4785</th>\n",
       "      <td>2010-09-09T00:00:00.000Z</td>\n",
       "      <td>2010-09-09T23:59:59.999Z</td>\n",
       "      <td>2010-09-09T22:29:00.000Z</td>\n",
       "      <td>2010-09-09T02:19:00.000Z</td>\n",
       "      <td>0.059909</td>\n",
       "      <td>0.062786</td>\n",
       "      <td>0.048687</td>\n",
       "      <td>0.060527</td>\n",
       "      <td>1.736180e+03</td>\n",
       "      <td>2.387238e+05</td>\n",
       "      <td>2010-09-09T23:59:59.999Z</td>\n",
       "    </tr>\n",
       "    <tr>\n",
       "      <th>4786</th>\n",
       "      <td>2010-09-08T00:00:00.000Z</td>\n",
       "      <td>2010-09-08T23:59:59.999Z</td>\n",
       "      <td>2010-09-08T00:20:00.000Z</td>\n",
       "      <td>2010-09-08T09:29:00.000Z</td>\n",
       "      <td>0.060277</td>\n",
       "      <td>0.063056</td>\n",
       "      <td>0.050090</td>\n",
       "      <td>0.060107</td>\n",
       "      <td>2.340150e+03</td>\n",
       "      <td>2.366594e+05</td>\n",
       "      <td>2010-09-08T23:59:59.999Z</td>\n",
       "    </tr>\n",
       "    <tr>\n",
       "      <th>4787</th>\n",
       "      <td>2010-09-07T00:00:00.000Z</td>\n",
       "      <td>2010-09-07T23:59:59.999Z</td>\n",
       "      <td>2010-09-07T09:47:00.000Z</td>\n",
       "      <td>2010-09-07T02:38:00.000Z</td>\n",
       "      <td>0.060790</td>\n",
       "      <td>0.066397</td>\n",
       "      <td>0.052942</td>\n",
       "      <td>0.060352</td>\n",
       "      <td>3.455800e+03</td>\n",
       "      <td>2.371288e+05</td>\n",
       "      <td>2010-09-07T23:59:59.999Z</td>\n",
       "    </tr>\n",
       "    <tr>\n",
       "      <th>4788</th>\n",
       "      <td>2010-09-06T00:00:00.000Z</td>\n",
       "      <td>2010-09-06T23:59:59.999Z</td>\n",
       "      <td>2010-09-06T08:50:00.000Z</td>\n",
       "      <td>2010-09-06T01:13:00.000Z</td>\n",
       "      <td>0.060381</td>\n",
       "      <td>0.070027</td>\n",
       "      <td>0.052900</td>\n",
       "      <td>0.060794</td>\n",
       "      <td>9.112300e+02</td>\n",
       "      <td>2.383770e+05</td>\n",
       "      <td>2010-09-06T23:59:59.999Z</td>\n",
       "    </tr>\n",
       "  </tbody>\n",
       "</table>\n",
       "<p>4789 rows × 11 columns</p>\n",
       "</div>"
      ],
      "text/plain": [
       "                      timeOpen                 timeClose  \\\n",
       "0     2023-10-16T00:00:00.000Z  2023-10-16T23:59:59.999Z   \n",
       "1     2023-10-15T00:00:00.000Z  2023-10-15T23:59:59.999Z   \n",
       "2     2023-10-14T00:00:00.000Z  2023-10-14T23:59:59.999Z   \n",
       "3     2023-10-13T00:00:00.000Z  2023-10-13T23:59:59.999Z   \n",
       "4     2023-10-12T00:00:00.000Z  2023-10-12T23:59:59.999Z   \n",
       "...                        ...                       ...   \n",
       "4784  2010-09-10T00:00:00.000Z  2010-09-10T23:59:59.999Z   \n",
       "4785  2010-09-09T00:00:00.000Z  2010-09-09T23:59:59.999Z   \n",
       "4786  2010-09-08T00:00:00.000Z  2010-09-08T23:59:59.999Z   \n",
       "4787  2010-09-07T00:00:00.000Z  2010-09-07T23:59:59.999Z   \n",
       "4788  2010-09-06T00:00:00.000Z  2010-09-06T23:59:59.999Z   \n",
       "\n",
       "                      timeHigh                   timeLow          open  \\\n",
       "0     2023-10-16T13:33:00.000Z  2023-10-16T00:46:00.000Z  27162.628229   \n",
       "1     2023-10-15T22:12:00.000Z  2023-10-15T13:06:00.000Z  26858.011726   \n",
       "2     2023-10-14T03:38:00.000Z  2023-10-14T21:30:00.000Z  26866.203245   \n",
       "3     2023-10-13T21:03:00.000Z  2023-10-13T17:35:00.000Z  26752.879558   \n",
       "4     2023-10-12T02:55:00.000Z  2023-10-12T17:36:00.000Z  26873.292491   \n",
       "...                        ...                       ...           ...   \n",
       "4784  2010-09-10T10:56:00.000Z  2010-09-10T04:05:00.000Z      0.060507   \n",
       "4785  2010-09-09T22:29:00.000Z  2010-09-09T02:19:00.000Z      0.059909   \n",
       "4786  2010-09-08T00:20:00.000Z  2010-09-08T09:29:00.000Z      0.060277   \n",
       "4787  2010-09-07T09:47:00.000Z  2010-09-07T02:38:00.000Z      0.060790   \n",
       "4788  2010-09-06T08:50:00.000Z  2010-09-06T01:13:00.000Z      0.060381   \n",
       "\n",
       "              high           low         close        volume     marketCap  \\\n",
       "0     29448.139037  27130.473478  28519.466679  2.783388e+10  5.565775e+11   \n",
       "1     27289.170319  26817.894010  27159.652919  7.098202e+09  5.300170e+11   \n",
       "2     26968.999218  26814.586586  26861.706203  5.388117e+09  5.241741e+11   \n",
       "3     27092.696746  26686.322309  26862.375446  1.516531e+10  5.241622e+11   \n",
       "4     26921.438903  26558.320784  26756.798639  9.392909e+09  5.220780e+11   \n",
       "...            ...           ...           ...           ...           ...   \n",
       "4784      0.063796      0.050523      0.060196  4.936590e+03  2.379515e+05   \n",
       "4785      0.062786      0.048687      0.060527  1.736180e+03  2.387238e+05   \n",
       "4786      0.063056      0.050090      0.060107  2.340150e+03  2.366594e+05   \n",
       "4787      0.066397      0.052942      0.060352  3.455800e+03  2.371288e+05   \n",
       "4788      0.070027      0.052900      0.060794  9.112300e+02  2.383770e+05   \n",
       "\n",
       "                     timestamp  \n",
       "0     2023-10-16T23:59:59.999Z  \n",
       "1     2023-10-15T23:59:59.999Z  \n",
       "2     2023-10-14T23:59:59.999Z  \n",
       "3     2023-10-13T23:59:59.999Z  \n",
       "4     2023-10-12T23:59:59.999Z  \n",
       "...                        ...  \n",
       "4784  2010-09-10T23:59:59.999Z  \n",
       "4785  2010-09-09T23:59:59.999Z  \n",
       "4786  2010-09-08T23:59:59.999Z  \n",
       "4787  2010-09-07T23:59:59.999Z  \n",
       "4788  2010-09-06T23:59:59.999Z  \n",
       "\n",
       "[4789 rows x 11 columns]"
      ]
     },
     "execution_count": 3,
     "metadata": {},
     "output_type": "execute_result"
    }
   ],
   "source": [
    "df"
   ]
  },
  {
   "cell_type": "code",
   "execution_count": 4,
   "metadata": {},
   "outputs": [],
   "source": [
    "df=df.loc[:,\"timeLow\":\"volume\"]"
   ]
  },
  {
   "cell_type": "code",
   "execution_count": 5,
   "metadata": {},
   "outputs": [
    {
     "data": {
      "text/html": [
       "<div>\n",
       "<style scoped>\n",
       "    .dataframe tbody tr th:only-of-type {\n",
       "        vertical-align: middle;\n",
       "    }\n",
       "\n",
       "    .dataframe tbody tr th {\n",
       "        vertical-align: top;\n",
       "    }\n",
       "\n",
       "    .dataframe thead th {\n",
       "        text-align: right;\n",
       "    }\n",
       "</style>\n",
       "<table border=\"1\" class=\"dataframe\">\n",
       "  <thead>\n",
       "    <tr style=\"text-align: right;\">\n",
       "      <th></th>\n",
       "      <th>timeLow</th>\n",
       "      <th>open</th>\n",
       "      <th>high</th>\n",
       "      <th>low</th>\n",
       "      <th>close</th>\n",
       "      <th>volume</th>\n",
       "    </tr>\n",
       "  </thead>\n",
       "  <tbody>\n",
       "    <tr>\n",
       "      <th>0</th>\n",
       "      <td>2023-10-16T00:46:00.000Z</td>\n",
       "      <td>27162.628229</td>\n",
       "      <td>29448.139037</td>\n",
       "      <td>27130.473478</td>\n",
       "      <td>28519.466679</td>\n",
       "      <td>2.783388e+10</td>\n",
       "    </tr>\n",
       "    <tr>\n",
       "      <th>1</th>\n",
       "      <td>2023-10-15T13:06:00.000Z</td>\n",
       "      <td>26858.011726</td>\n",
       "      <td>27289.170319</td>\n",
       "      <td>26817.894010</td>\n",
       "      <td>27159.652919</td>\n",
       "      <td>7.098202e+09</td>\n",
       "    </tr>\n",
       "    <tr>\n",
       "      <th>2</th>\n",
       "      <td>2023-10-14T21:30:00.000Z</td>\n",
       "      <td>26866.203245</td>\n",
       "      <td>26968.999218</td>\n",
       "      <td>26814.586586</td>\n",
       "      <td>26861.706203</td>\n",
       "      <td>5.388117e+09</td>\n",
       "    </tr>\n",
       "    <tr>\n",
       "      <th>3</th>\n",
       "      <td>2023-10-13T17:35:00.000Z</td>\n",
       "      <td>26752.879558</td>\n",
       "      <td>27092.696746</td>\n",
       "      <td>26686.322309</td>\n",
       "      <td>26862.375446</td>\n",
       "      <td>1.516531e+10</td>\n",
       "    </tr>\n",
       "    <tr>\n",
       "      <th>4</th>\n",
       "      <td>2023-10-12T17:36:00.000Z</td>\n",
       "      <td>26873.292491</td>\n",
       "      <td>26921.438903</td>\n",
       "      <td>26558.320784</td>\n",
       "      <td>26756.798639</td>\n",
       "      <td>9.392909e+09</td>\n",
       "    </tr>\n",
       "    <tr>\n",
       "      <th>...</th>\n",
       "      <td>...</td>\n",
       "      <td>...</td>\n",
       "      <td>...</td>\n",
       "      <td>...</td>\n",
       "      <td>...</td>\n",
       "      <td>...</td>\n",
       "    </tr>\n",
       "    <tr>\n",
       "      <th>4784</th>\n",
       "      <td>2010-09-10T04:05:00.000Z</td>\n",
       "      <td>0.060507</td>\n",
       "      <td>0.063796</td>\n",
       "      <td>0.050523</td>\n",
       "      <td>0.060196</td>\n",
       "      <td>4.936590e+03</td>\n",
       "    </tr>\n",
       "    <tr>\n",
       "      <th>4785</th>\n",
       "      <td>2010-09-09T02:19:00.000Z</td>\n",
       "      <td>0.059909</td>\n",
       "      <td>0.062786</td>\n",
       "      <td>0.048687</td>\n",
       "      <td>0.060527</td>\n",
       "      <td>1.736180e+03</td>\n",
       "    </tr>\n",
       "    <tr>\n",
       "      <th>4786</th>\n",
       "      <td>2010-09-08T09:29:00.000Z</td>\n",
       "      <td>0.060277</td>\n",
       "      <td>0.063056</td>\n",
       "      <td>0.050090</td>\n",
       "      <td>0.060107</td>\n",
       "      <td>2.340150e+03</td>\n",
       "    </tr>\n",
       "    <tr>\n",
       "      <th>4787</th>\n",
       "      <td>2010-09-07T02:38:00.000Z</td>\n",
       "      <td>0.060790</td>\n",
       "      <td>0.066397</td>\n",
       "      <td>0.052942</td>\n",
       "      <td>0.060352</td>\n",
       "      <td>3.455800e+03</td>\n",
       "    </tr>\n",
       "    <tr>\n",
       "      <th>4788</th>\n",
       "      <td>2010-09-06T01:13:00.000Z</td>\n",
       "      <td>0.060381</td>\n",
       "      <td>0.070027</td>\n",
       "      <td>0.052900</td>\n",
       "      <td>0.060794</td>\n",
       "      <td>9.112300e+02</td>\n",
       "    </tr>\n",
       "  </tbody>\n",
       "</table>\n",
       "<p>4789 rows × 6 columns</p>\n",
       "</div>"
      ],
      "text/plain": [
       "                       timeLow          open          high           low  \\\n",
       "0     2023-10-16T00:46:00.000Z  27162.628229  29448.139037  27130.473478   \n",
       "1     2023-10-15T13:06:00.000Z  26858.011726  27289.170319  26817.894010   \n",
       "2     2023-10-14T21:30:00.000Z  26866.203245  26968.999218  26814.586586   \n",
       "3     2023-10-13T17:35:00.000Z  26752.879558  27092.696746  26686.322309   \n",
       "4     2023-10-12T17:36:00.000Z  26873.292491  26921.438903  26558.320784   \n",
       "...                        ...           ...           ...           ...   \n",
       "4784  2010-09-10T04:05:00.000Z      0.060507      0.063796      0.050523   \n",
       "4785  2010-09-09T02:19:00.000Z      0.059909      0.062786      0.048687   \n",
       "4786  2010-09-08T09:29:00.000Z      0.060277      0.063056      0.050090   \n",
       "4787  2010-09-07T02:38:00.000Z      0.060790      0.066397      0.052942   \n",
       "4788  2010-09-06T01:13:00.000Z      0.060381      0.070027      0.052900   \n",
       "\n",
       "             close        volume  \n",
       "0     28519.466679  2.783388e+10  \n",
       "1     27159.652919  7.098202e+09  \n",
       "2     26861.706203  5.388117e+09  \n",
       "3     26862.375446  1.516531e+10  \n",
       "4     26756.798639  9.392909e+09  \n",
       "...            ...           ...  \n",
       "4784      0.060196  4.936590e+03  \n",
       "4785      0.060527  1.736180e+03  \n",
       "4786      0.060107  2.340150e+03  \n",
       "4787      0.060352  3.455800e+03  \n",
       "4788      0.060794  9.112300e+02  \n",
       "\n",
       "[4789 rows x 6 columns]"
      ]
     },
     "execution_count": 5,
     "metadata": {},
     "output_type": "execute_result"
    }
   ],
   "source": [
    "df"
   ]
  },
  {
   "cell_type": "code",
   "execution_count": 6,
   "metadata": {},
   "outputs": [],
   "source": [
    "def get_date(date):\n",
    "    date=date.split(\"T\")\n",
    "    return date[0]\n",
    "\n",
    "df[\"timeLow\"]=df[\"timeLow\"].apply(get_date)\n",
    "df.rename(columns={\"timeLow\":\"date\"},inplace=True)\n"
   ]
  },
  {
   "cell_type": "code",
   "execution_count": 7,
   "metadata": {},
   "outputs": [
    {
     "data": {
      "text/html": [
       "<div>\n",
       "<style scoped>\n",
       "    .dataframe tbody tr th:only-of-type {\n",
       "        vertical-align: middle;\n",
       "    }\n",
       "\n",
       "    .dataframe tbody tr th {\n",
       "        vertical-align: top;\n",
       "    }\n",
       "\n",
       "    .dataframe thead th {\n",
       "        text-align: right;\n",
       "    }\n",
       "</style>\n",
       "<table border=\"1\" class=\"dataframe\">\n",
       "  <thead>\n",
       "    <tr style=\"text-align: right;\">\n",
       "      <th></th>\n",
       "      <th>date</th>\n",
       "      <th>open</th>\n",
       "      <th>high</th>\n",
       "      <th>low</th>\n",
       "      <th>close</th>\n",
       "      <th>volume</th>\n",
       "    </tr>\n",
       "  </thead>\n",
       "  <tbody>\n",
       "    <tr>\n",
       "      <th>0</th>\n",
       "      <td>2023-10-16</td>\n",
       "      <td>27162.628229</td>\n",
       "      <td>29448.139037</td>\n",
       "      <td>27130.473478</td>\n",
       "      <td>28519.466679</td>\n",
       "      <td>2.783388e+10</td>\n",
       "    </tr>\n",
       "    <tr>\n",
       "      <th>1</th>\n",
       "      <td>2023-10-15</td>\n",
       "      <td>26858.011726</td>\n",
       "      <td>27289.170319</td>\n",
       "      <td>26817.894010</td>\n",
       "      <td>27159.652919</td>\n",
       "      <td>7.098202e+09</td>\n",
       "    </tr>\n",
       "    <tr>\n",
       "      <th>2</th>\n",
       "      <td>2023-10-14</td>\n",
       "      <td>26866.203245</td>\n",
       "      <td>26968.999218</td>\n",
       "      <td>26814.586586</td>\n",
       "      <td>26861.706203</td>\n",
       "      <td>5.388117e+09</td>\n",
       "    </tr>\n",
       "    <tr>\n",
       "      <th>3</th>\n",
       "      <td>2023-10-13</td>\n",
       "      <td>26752.879558</td>\n",
       "      <td>27092.696746</td>\n",
       "      <td>26686.322309</td>\n",
       "      <td>26862.375446</td>\n",
       "      <td>1.516531e+10</td>\n",
       "    </tr>\n",
       "    <tr>\n",
       "      <th>4</th>\n",
       "      <td>2023-10-12</td>\n",
       "      <td>26873.292491</td>\n",
       "      <td>26921.438903</td>\n",
       "      <td>26558.320784</td>\n",
       "      <td>26756.798639</td>\n",
       "      <td>9.392909e+09</td>\n",
       "    </tr>\n",
       "    <tr>\n",
       "      <th>...</th>\n",
       "      <td>...</td>\n",
       "      <td>...</td>\n",
       "      <td>...</td>\n",
       "      <td>...</td>\n",
       "      <td>...</td>\n",
       "      <td>...</td>\n",
       "    </tr>\n",
       "    <tr>\n",
       "      <th>4784</th>\n",
       "      <td>2010-09-10</td>\n",
       "      <td>0.060507</td>\n",
       "      <td>0.063796</td>\n",
       "      <td>0.050523</td>\n",
       "      <td>0.060196</td>\n",
       "      <td>4.936590e+03</td>\n",
       "    </tr>\n",
       "    <tr>\n",
       "      <th>4785</th>\n",
       "      <td>2010-09-09</td>\n",
       "      <td>0.059909</td>\n",
       "      <td>0.062786</td>\n",
       "      <td>0.048687</td>\n",
       "      <td>0.060527</td>\n",
       "      <td>1.736180e+03</td>\n",
       "    </tr>\n",
       "    <tr>\n",
       "      <th>4786</th>\n",
       "      <td>2010-09-08</td>\n",
       "      <td>0.060277</td>\n",
       "      <td>0.063056</td>\n",
       "      <td>0.050090</td>\n",
       "      <td>0.060107</td>\n",
       "      <td>2.340150e+03</td>\n",
       "    </tr>\n",
       "    <tr>\n",
       "      <th>4787</th>\n",
       "      <td>2010-09-07</td>\n",
       "      <td>0.060790</td>\n",
       "      <td>0.066397</td>\n",
       "      <td>0.052942</td>\n",
       "      <td>0.060352</td>\n",
       "      <td>3.455800e+03</td>\n",
       "    </tr>\n",
       "    <tr>\n",
       "      <th>4788</th>\n",
       "      <td>2010-09-06</td>\n",
       "      <td>0.060381</td>\n",
       "      <td>0.070027</td>\n",
       "      <td>0.052900</td>\n",
       "      <td>0.060794</td>\n",
       "      <td>9.112300e+02</td>\n",
       "    </tr>\n",
       "  </tbody>\n",
       "</table>\n",
       "<p>4789 rows × 6 columns</p>\n",
       "</div>"
      ],
      "text/plain": [
       "            date          open          high           low         close  \\\n",
       "0     2023-10-16  27162.628229  29448.139037  27130.473478  28519.466679   \n",
       "1     2023-10-15  26858.011726  27289.170319  26817.894010  27159.652919   \n",
       "2     2023-10-14  26866.203245  26968.999218  26814.586586  26861.706203   \n",
       "3     2023-10-13  26752.879558  27092.696746  26686.322309  26862.375446   \n",
       "4     2023-10-12  26873.292491  26921.438903  26558.320784  26756.798639   \n",
       "...          ...           ...           ...           ...           ...   \n",
       "4784  2010-09-10      0.060507      0.063796      0.050523      0.060196   \n",
       "4785  2010-09-09      0.059909      0.062786      0.048687      0.060527   \n",
       "4786  2010-09-08      0.060277      0.063056      0.050090      0.060107   \n",
       "4787  2010-09-07      0.060790      0.066397      0.052942      0.060352   \n",
       "4788  2010-09-06      0.060381      0.070027      0.052900      0.060794   \n",
       "\n",
       "            volume  \n",
       "0     2.783388e+10  \n",
       "1     7.098202e+09  \n",
       "2     5.388117e+09  \n",
       "3     1.516531e+10  \n",
       "4     9.392909e+09  \n",
       "...            ...  \n",
       "4784  4.936590e+03  \n",
       "4785  1.736180e+03  \n",
       "4786  2.340150e+03  \n",
       "4787  3.455800e+03  \n",
       "4788  9.112300e+02  \n",
       "\n",
       "[4789 rows x 6 columns]"
      ]
     },
     "execution_count": 7,
     "metadata": {},
     "output_type": "execute_result"
    }
   ],
   "source": [
    "df"
   ]
  },
  {
   "cell_type": "code",
   "execution_count": 8,
   "metadata": {
    "scrolled": false
   },
   "outputs": [
    {
     "data": {
      "text/plain": [
       "0       False\n",
       "1       False\n",
       "2       False\n",
       "3       False\n",
       "4       False\n",
       "        ...  \n",
       "4784    False\n",
       "4785    False\n",
       "4786    False\n",
       "4787    False\n",
       "4788    False\n",
       "Length: 4789, dtype: bool"
      ]
     },
     "execution_count": 8,
     "metadata": {},
     "output_type": "execute_result"
    }
   ],
   "source": [
    "df.duplicated()"
   ]
  },
  {
   "cell_type": "code",
   "execution_count": 9,
   "metadata": {},
   "outputs": [],
   "source": [
    "df.index=pd.to_datetime(df[\"date\"])\n",
    "df.drop(columns=\"date\",inplace=True)"
   ]
  },
  {
   "cell_type": "code",
   "execution_count": null,
   "metadata": {},
   "outputs": [],
   "source": []
  },
  {
   "cell_type": "code",
   "execution_count": 10,
   "metadata": {},
   "outputs": [],
   "source": [
    "df1=df[['close']].copy()"
   ]
  },
  {
   "cell_type": "code",
   "execution_count": 11,
   "metadata": {},
   "outputs": [
    {
     "data": {
      "text/html": [
       "<div>\n",
       "<style scoped>\n",
       "    .dataframe tbody tr th:only-of-type {\n",
       "        vertical-align: middle;\n",
       "    }\n",
       "\n",
       "    .dataframe tbody tr th {\n",
       "        vertical-align: top;\n",
       "    }\n",
       "\n",
       "    .dataframe thead th {\n",
       "        text-align: right;\n",
       "    }\n",
       "</style>\n",
       "<table border=\"1\" class=\"dataframe\">\n",
       "  <thead>\n",
       "    <tr style=\"text-align: right;\">\n",
       "      <th></th>\n",
       "      <th>close</th>\n",
       "    </tr>\n",
       "    <tr>\n",
       "      <th>date</th>\n",
       "      <th></th>\n",
       "    </tr>\n",
       "  </thead>\n",
       "  <tbody>\n",
       "    <tr>\n",
       "      <th>2023-10-16</th>\n",
       "      <td>28519.466679</td>\n",
       "    </tr>\n",
       "    <tr>\n",
       "      <th>2023-10-15</th>\n",
       "      <td>27159.652919</td>\n",
       "    </tr>\n",
       "    <tr>\n",
       "      <th>2023-10-14</th>\n",
       "      <td>26861.706203</td>\n",
       "    </tr>\n",
       "    <tr>\n",
       "      <th>2023-10-13</th>\n",
       "      <td>26862.375446</td>\n",
       "    </tr>\n",
       "    <tr>\n",
       "      <th>2023-10-12</th>\n",
       "      <td>26756.798639</td>\n",
       "    </tr>\n",
       "    <tr>\n",
       "      <th>...</th>\n",
       "      <td>...</td>\n",
       "    </tr>\n",
       "    <tr>\n",
       "      <th>2010-09-10</th>\n",
       "      <td>0.060196</td>\n",
       "    </tr>\n",
       "    <tr>\n",
       "      <th>2010-09-09</th>\n",
       "      <td>0.060527</td>\n",
       "    </tr>\n",
       "    <tr>\n",
       "      <th>2010-09-08</th>\n",
       "      <td>0.060107</td>\n",
       "    </tr>\n",
       "    <tr>\n",
       "      <th>2010-09-07</th>\n",
       "      <td>0.060352</td>\n",
       "    </tr>\n",
       "    <tr>\n",
       "      <th>2010-09-06</th>\n",
       "      <td>0.060794</td>\n",
       "    </tr>\n",
       "  </tbody>\n",
       "</table>\n",
       "<p>4789 rows × 1 columns</p>\n",
       "</div>"
      ],
      "text/plain": [
       "                   close\n",
       "date                    \n",
       "2023-10-16  28519.466679\n",
       "2023-10-15  27159.652919\n",
       "2023-10-14  26861.706203\n",
       "2023-10-13  26862.375446\n",
       "2023-10-12  26756.798639\n",
       "...                  ...\n",
       "2010-09-10      0.060196\n",
       "2010-09-09      0.060527\n",
       "2010-09-08      0.060107\n",
       "2010-09-07      0.060352\n",
       "2010-09-06      0.060794\n",
       "\n",
       "[4789 rows x 1 columns]"
      ]
     },
     "execution_count": 11,
     "metadata": {},
     "output_type": "execute_result"
    }
   ],
   "source": [
    "df1"
   ]
  },
  {
   "cell_type": "code",
   "execution_count": 12,
   "metadata": {
    "scrolled": true
   },
   "outputs": [
    {
     "data": {
      "text/plain": [
       "<matplotlib.axes._subplots.AxesSubplot at 0x7f7aae6d5590>"
      ]
     },
     "execution_count": 12,
     "metadata": {},
     "output_type": "execute_result"
    },
    {
     "data": {
      "image/png": "[encoded data removed]",
      "text/plain": [
       "<Figure size 432x288 with 1 Axes>"
      ]
     },
     "metadata": {
      "needs_background": "light"
     },
     "output_type": "display_data"
    }
   ],
   "source": [
    "df1.plot()"
   ]
  },
  {
   "cell_type": "code",
   "execution_count": 13,
   "metadata": {},
   "outputs": [
    {
     "data": {
      "image/png": "[encoded data removed]",
      "text/plain": [
       "<Figure size 432x288 with 1 Axes>"
      ]
     },
     "metadata": {
      "needs_background": "light"
     },
     "output_type": "display_data"
    },
    {
     "data": {
      "text/plain": [
       "<Figure size 432x432 with 0 Axes>"
      ]
     },
     "metadata": {},
     "output_type": "display_data"
    }
   ],
   "source": [
    "import matplotlib.pyplot as plt\n",
    "plt.plot(df1)\n",
    "plt.figure(figsize=(6,6))\n",
    "plt.show()"
   ]
  },
  {
   "cell_type": "code",
   "execution_count": 14,
   "metadata": {},
   "outputs": [],
   "source": [
    "df2=df1-df1.shift()\n",
    "df2.dropna(inplace=True)"
   ]
  },
  {
   "cell_type": "code",
   "execution_count": 15,
   "metadata": {},
   "outputs": [
    {
     "data": {
      "text/plain": [
       "<matplotlib.axes._subplots.AxesSubplot at 0x7f7aabcded90>"
      ]
     },
     "execution_count": 15,
     "metadata": {},
     "output_type": "execute_result"
    },
    {
     "data": {
      "image/png": "[encoded data removed]",
      "text/plain": [
       "<Figure size 432x288 with 1 Axes>"
      ]
     },
     "metadata": {
      "needs_background": "light"
     },
     "output_type": "display_data"
    }
   ],
   "source": [
    "df2.plot()"
   ]
  },
  {
   "cell_type": "markdown",
   "metadata": {},
   "source": [
    "# searching the order of the ARIMA model"
   ]
  },
  {
   "cell_type": "code",
   "execution_count": 16,
   "metadata": {},
   "outputs": [
    {
     "name": "stdout",
     "output_type": "stream",
     "text": [
      "Performing stepwise search to minimize aic\n",
      " ARIMA(2,0,2)(0,0,0)[0] intercept   : AIC=75553.230, Time=9.87 sec\n",
      " ARIMA(0,0,0)(0,0,0)[0] intercept   : AIC=75582.584, Time=0.16 sec\n",
      " ARIMA(1,0,0)(0,0,0)[0] intercept   : AIC=75581.631, Time=0.25 sec\n",
      " ARIMA(0,0,1)(0,0,0)[0] intercept   : AIC=75581.682, Time=0.44 sec\n",
      " ARIMA(0,0,0)(0,0,0)[0]             : AIC=75580.989, Time=0.08 sec\n",
      " ARIMA(1,0,2)(0,0,0)[0] intercept   : AIC=75582.495, Time=1.84 sec\n",
      " ARIMA(2,0,1)(0,0,0)[0] intercept   : AIC=75581.417, Time=4.96 sec\n",
      " ARIMA(3,0,2)(0,0,0)[0] intercept   : AIC=75555.149, Time=9.11 sec\n",
      " ARIMA(2,0,3)(0,0,0)[0] intercept   : AIC=75555.249, Time=6.95 sec\n",
      " ARIMA(1,0,1)(0,0,0)[0] intercept   : AIC=75583.542, Time=0.47 sec\n",
      " ARIMA(1,0,3)(0,0,0)[0] intercept   : AIC=75582.061, Time=3.82 sec\n",
      " ARIMA(3,0,1)(0,0,0)[0] intercept   : AIC=75582.411, Time=2.43 sec\n",
      " ARIMA(3,0,3)(0,0,0)[0] intercept   : AIC=75556.535, Time=7.55 sec\n",
      " ARIMA(2,0,2)(0,0,0)[0]             : AIC=75581.607, Time=0.77 sec\n",
      "\n",
      "Best model:  ARIMA(2,0,2)(0,0,0)[0] intercept\n",
      "Total fit time: 49.046 seconds\n"
     ]
    },
    {
     "data": {
      "text/html": [
       "<table class=\"simpletable\">\n",
       "<caption>SARIMAX Results</caption>\n",
       "<tr>\n",
       "  <th>Dep. Variable:</th>           <td>y</td>        <th>  No. Observations:  </th>    <td>4788</td>   \n",
       "</tr>\n",
       "<tr>\n",
       "  <th>Model:</th>           <td>SARIMAX(2, 0, 2)</td> <th>  Log Likelihood     </th> <td>-37770.615</td>\n",
       "</tr>\n",
       "<tr>\n",
       "  <th>Date:</th>            <td>Mon, 02 Oct 2023</td> <th>  AIC                </th>  <td>75553.230</td>\n",
       "</tr>\n",
       "<tr>\n",
       "  <th>Time:</th>                <td>21:15:14</td>     <th>  BIC                </th>  <td>75592.074</td>\n",
       "</tr>\n",
       "<tr>\n",
       "  <th>Sample:</th>                  <td>0</td>        <th>  HQIC               </th>  <td>75566.874</td>\n",
       "</tr>\n",
       "<tr>\n",
       "  <th></th>                      <td> - 4788</td>     <th>                     </th>      <td> </td>    \n",
       "</tr>\n",
       "<tr>\n",
       "  <th>Covariance Type:</th>        <td>opg</td>       <th>                     </th>      <td> </td>    \n",
       "</tr>\n",
       "</table>\n",
       "<table class=\"simpletable\">\n",
       "<tr>\n",
       "      <td></td>         <th>coef</th>     <th>std err</th>      <th>z</th>      <th>P>|z|</th>  <th>[0.025</th>    <th>0.975]</th>  \n",
       "</tr>\n",
       "<tr>\n",
       "  <th>intercept</th> <td>   -4.3253</td> <td>   10.605</td> <td>   -0.408</td> <td> 0.683</td> <td>  -25.111</td> <td>   16.460</td>\n",
       "</tr>\n",
       "<tr>\n",
       "  <th>ar.L1</th>     <td>    0.8224</td> <td>    0.007</td> <td>  122.829</td> <td> 0.000</td> <td>    0.809</td> <td>    0.836</td>\n",
       "</tr>\n",
       "<tr>\n",
       "  <th>ar.L2</th>     <td>   -0.9547</td> <td>    0.006</td> <td> -147.199</td> <td> 0.000</td> <td>   -0.967</td> <td>   -0.942</td>\n",
       "</tr>\n",
       "<tr>\n",
       "  <th>ma.L1</th>     <td>   -0.8487</td> <td>    0.006</td> <td> -139.709</td> <td> 0.000</td> <td>   -0.861</td> <td>   -0.837</td>\n",
       "</tr>\n",
       "<tr>\n",
       "  <th>ma.L2</th>     <td>    0.9647</td> <td>    0.006</td> <td>  168.001</td> <td> 0.000</td> <td>    0.953</td> <td>    0.976</td>\n",
       "</tr>\n",
       "<tr>\n",
       "  <th>sigma2</th>    <td> 4.191e+05</td> <td> 2393.247</td> <td>  175.127</td> <td> 0.000</td> <td> 4.14e+05</td> <td> 4.24e+05</td>\n",
       "</tr>\n",
       "</table>\n",
       "<table class=\"simpletable\">\n",
       "<tr>\n",
       "  <th>Ljung-Box (L1) (Q):</th>     <td>0.02</td> <th>  Jarque-Bera (JB):  </th> <td>126225.93</td>\n",
       "</tr>\n",
       "<tr>\n",
       "  <th>Prob(Q):</th>                <td>0.90</td> <th>  Prob(JB):          </th>   <td>0.00</td>   \n",
       "</tr>\n",
       "<tr>\n",
       "  <th>Heteroskedasticity (H):</th> <td>0.00</td> <th>  Skew:              </th>   <td>0.19</td>   \n",
       "</tr>\n",
       "<tr>\n",
       "  <th>Prob(H) (two-sided):</th>    <td>0.00</td> <th>  Kurtosis:          </th>   <td>28.15</td>  \n",
       "</tr>\n",
       "</table><br/><br/>Warnings:<br/>[1] Covariance matrix calculated using the outer product of gradients (complex-step)."
      ],
      "text/plain": [
       "<class 'statsmodels.iolib.summary.Summary'>\n",
       "\"\"\"\n",
       "                               SARIMAX Results                                \n",
       "==============================================================================\n",
       "Dep. Variable:                      y   No. Observations:                 4788\n",
       "Model:               SARIMAX(2, 0, 2)   Log Likelihood              -37770.615\n",
       "Date:                Mon, 02 Oct 2023   AIC                          75553.230\n",
       "Time:                        21:15:14   BIC                          75592.074\n",
       "Sample:                             0   HQIC                         75566.874\n",
       "                               - 4788                                         \n",
       "Covariance Type:                  opg                                         \n",
       "==============================================================================\n",
       "                 coef    std err          z      P>|z|      [0.025      0.975]\n",
       "------------------------------------------------------------------------------\n",
       "intercept     -4.3253     10.605     -0.408      0.683     -25.111      16.460\n",
       "ar.L1          0.8224      0.007    122.829      0.000       0.809       0.836\n",
       "ar.L2         -0.9547      0.006   -147.199      0.000      -0.967      -0.942\n",
       "ma.L1         -0.8487      0.006   -139.709      0.000      -0.861      -0.837\n",
       "ma.L2          0.9647      0.006    168.001      0.000       0.953       0.976\n",
       "sigma2      4.191e+05   2393.247    175.127      0.000    4.14e+05    4.24e+05\n",
       "===================================================================================\n",
       "Ljung-Box (L1) (Q):                   0.02   Jarque-Bera (JB):            126225.93\n",
       "Prob(Q):                              0.90   Prob(JB):                         0.00\n",
       "Heteroskedasticity (H):               0.00   Skew:                             0.19\n",
       "Prob(H) (two-sided):                  0.00   Kurtosis:                        28.15\n",
       "===================================================================================\n",
       "\n",
       "Warnings:\n",
       "[1] Covariance matrix calculated using the outer product of gradients (complex-step).\n",
       "\"\"\""
      ]
     },
     "execution_count": 16,
     "metadata": {},
     "output_type": "execute_result"
    }
   ],
   "source": [
    "from pmdarima import auto_arima\n",
    "arma_order=auto_arima(df2,trace=True, suppres_warnings=True)\n",
    "arma_order.summary()"
   ]
  },
  {
   "cell_type": "code",
   "execution_count": 17,
   "metadata": {},
   "outputs": [
    {
     "name": "stderr",
     "output_type": "stream",
     "text": [
      "/home/david/anaconda3/lib/python3.7/site-packages/statsmodels/graphics/tsaplots.py:353: FutureWarning: The default method 'yw' can produce PACF values outside of the [-1,1] interval. After 0.13, the default will change tounadjusted Yule-Walker ('ywm'). You can use this method now by setting method='ywm'.\n",
      "  FutureWarning,\n"
     ]
    },
    {
     "data": {
      "image/png": "[encoded data removed]",
      "text/plain": [
       "<Figure size 864x576 with 2 Axes>"
      ]
     },
     "metadata": {
      "needs_background": "light"
     },
     "output_type": "display_data"
    }
   ],
   "source": [
    "from statsmodels.graphics.tsaplots import plot_acf,plot_pacf\n",
    "\n",
    "fig = plt.figure(figsize=(12,8))\n",
    "ax1=fig.add_subplot(211)\n",
    "fig=plot_acf(df2,lags=40,ax=ax1)\n",
    "ax2=fig.add_subplot(212)\n",
    "fig=plot_pacf(df2,lags=40, ax=ax2)\n",
    "\n"
   ]
  },
  {
   "cell_type": "markdown",
   "metadata": {},
   "source": [
    "# prediction"
   ]
  },
  {
   "cell_type": "code",
   "execution_count": 18,
   "metadata": {},
   "outputs": [
    {
     "data": {
      "text/plain": [
       "(4788, 1)"
      ]
     },
     "execution_count": 18,
     "metadata": {},
     "output_type": "execute_result"
    }
   ],
   "source": [
    "df2.shape"
   ]
  },
  {
   "cell_type": "code",
   "execution_count": 19,
   "metadata": {},
   "outputs": [],
   "source": [
    "train_data=df1.iloc[:3000]\n",
    "test_data=df1.iloc[3000:]"
   ]
  },
  {
   "cell_type": "code",
   "execution_count": 20,
   "metadata": {},
   "outputs": [],
   "source": [
    "import warnings\n",
    "from statsmodels.tsa.arima.model import ARIMA\n"
   ]
  },
  {
   "cell_type": "code",
   "execution_count": 21,
   "metadata": {},
   "outputs": [],
   "source": [
    "warnings.filterwarnings(\"ignore\")\n",
    "model=ARIMA(df1,order=(2,1,2))\n",
    "model_fit=model.fit()"
   ]
  },
  {
   "cell_type": "code",
   "execution_count": 22,
   "metadata": {},
   "outputs": [],
   "source": [
    "start=len(train_data)\n",
    "end=len(train_data)+len(test_data)\n",
    "\n",
    "test_data[\"forcast\"]=model_fit.predict(start=start, end=end-1,dynamic=True)"
   ]
  },
  {
   "cell_type": "code",
   "execution_count": 26,
   "metadata": {},
   "outputs": [
    {
     "data": {
      "text/plain": [
       "<matplotlib.axes._subplots.AxesSubplot at 0x7f7aabc1a510>"
      ]
     },
     "execution_count": 26,
     "metadata": {},
     "output_type": "execute_result"
    },
    {
     "data": {
      "image/png": "[encoded data removed]",
      "text/plain": [
       "<Figure size 432x288 with 1 Axes>"
      ]
     },
     "metadata": {
      "needs_background": "light"
     },
     "output_type": "display_data"
    }
   ],
   "source": [
    "test_data[\"forcast\"].plot()"
   ]
  },
  {
   "cell_type": "code",
   "execution_count": 27,
   "metadata": {},
   "outputs": [
    {
     "data": {
      "text/html": [
       "<div>\n",
       "<style scoped>\n",
       "    .dataframe tbody tr th:only-of-type {\n",
       "        vertical-align: middle;\n",
       "    }\n",
       "\n",
       "    .dataframe tbody tr th {\n",
       "        vertical-align: top;\n",
       "    }\n",
       "\n",
       "    .dataframe thead th {\n",
       "        text-align: right;\n",
       "    }\n",
       "</style>\n",
       "<table border=\"1\" class=\"dataframe\">\n",
       "  <thead>\n",
       "    <tr style=\"text-align: right;\">\n",
       "      <th></th>\n",
       "      <th>close</th>\n",
       "      <th>forcast</th>\n",
       "    </tr>\n",
       "    <tr>\n",
       "      <th>date</th>\n",
       "      <th></th>\n",
       "      <th></th>\n",
       "    </tr>\n",
       "  </thead>\n",
       "  <tbody>\n",
       "    <tr>\n",
       "      <th>2015-07-30</th>\n",
       "      <td>287.721985</td>\n",
       "      <td>284.782141</td>\n",
       "    </tr>\n",
       "    <tr>\n",
       "      <th>2015-07-29</th>\n",
       "      <td>289.589996</td>\n",
       "      <td>285.013120</td>\n",
       "    </tr>\n",
       "    <tr>\n",
       "      <th>2015-07-28</th>\n",
       "      <td>294.427002</td>\n",
       "      <td>285.235008</td>\n",
       "    </tr>\n",
       "    <tr>\n",
       "      <th>2015-07-27</th>\n",
       "      <td>293.623993</td>\n",
       "      <td>285.449060</td>\n",
       "    </tr>\n",
       "    <tr>\n",
       "      <th>2015-07-26</th>\n",
       "      <td>292.686005</td>\n",
       "      <td>285.655545</td>\n",
       "    </tr>\n",
       "    <tr>\n",
       "      <th>...</th>\n",
       "      <td>...</td>\n",
       "      <td>...</td>\n",
       "    </tr>\n",
       "    <tr>\n",
       "      <th>2010-09-10</th>\n",
       "      <td>0.060196</td>\n",
       "      <td>291.290457</td>\n",
       "    </tr>\n",
       "    <tr>\n",
       "      <th>2010-09-09</th>\n",
       "      <td>0.060527</td>\n",
       "      <td>291.290457</td>\n",
       "    </tr>\n",
       "    <tr>\n",
       "      <th>2010-09-08</th>\n",
       "      <td>0.060107</td>\n",
       "      <td>291.290457</td>\n",
       "    </tr>\n",
       "    <tr>\n",
       "      <th>2010-09-07</th>\n",
       "      <td>0.060352</td>\n",
       "      <td>291.290457</td>\n",
       "    </tr>\n",
       "    <tr>\n",
       "      <th>2010-09-06</th>\n",
       "      <td>0.060794</td>\n",
       "      <td>291.290457</td>\n",
       "    </tr>\n",
       "  </tbody>\n",
       "</table>\n",
       "<p>1789 rows × 2 columns</p>\n",
       "</div>"
      ],
      "text/plain": [
       "                 close     forcast\n",
       "date                              \n",
       "2015-07-30  287.721985  284.782141\n",
       "2015-07-29  289.589996  285.013120\n",
       "2015-07-28  294.427002  285.235008\n",
       "2015-07-27  293.623993  285.449060\n",
       "2015-07-26  292.686005  285.655545\n",
       "...                ...         ...\n",
       "2010-09-10    0.060196  291.290457\n",
       "2010-09-09    0.060527  291.290457\n",
       "2010-09-08    0.060107  291.290457\n",
       "2010-09-07    0.060352  291.290457\n",
       "2010-09-06    0.060794  291.290457\n",
       "\n",
       "[1789 rows x 2 columns]"
      ]
     },
     "execution_count": 27,
     "metadata": {},
     "output_type": "execute_result"
    }
   ],
   "source": [
    "test_data"
   ]
  },
  {
   "cell_type": "code",
   "execution_count": 25,
   "metadata": {},
   "outputs": [
    {
     "data": {
      "text/plain": [
       "date\n",
       "2015-07-30    284.782141\n",
       "2015-07-29    285.013120\n",
       "2015-07-28    285.235008\n",
       "2015-07-27    285.449060\n",
       "2015-07-26    285.655545\n",
       "                 ...    \n",
       "2010-09-10    291.290457\n",
       "2010-09-09    291.290457\n",
       "2010-09-08    291.290457\n",
       "2010-09-07    291.290457\n",
       "2010-09-06    291.290457\n",
       "Name: forcast, Length: 1789, dtype: float64"
      ]
     },
     "execution_count": 25,
     "metadata": {},
     "output_type": "execute_result"
    }
   ],
   "source": [
    "test_data[\"forcast\"]"
   ]
  },
  {
   "cell_type": "code",
   "execution_count": null,
   "metadata": {},
   "outputs": [],
   "source": []
  }
 ],
 "metadata": {
  "kernelspec": {
   "display_name": "Python 3",
   "language": "python",
   "name": "python3"
  },
  "language_info": {
   "codemirror_mode": {
    "name": "ipython",
    "version": 3
   },
   "file_extension": ".py",
   "mimetype": "text/x-python",
   "name": "python",
   "nbconvert_exporter": "python",
   "pygments_lexer": "ipython3",
   "version": "3.7.6"
  }
 },
 "nbformat": 4,
 "nbformat_minor": 4
}
