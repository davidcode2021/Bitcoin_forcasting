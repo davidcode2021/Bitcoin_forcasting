{
 "cells": [
  {
   "cell_type": "code",
   "execution_count": 19,
   "metadata": {},
   "outputs": [],
   "source": [
    "import pandas as pd\n",
    "from sklearn.svm import SVR\n",
    "from sklearn.model_selection import train_test_split\n",
    "from sklearn.metrics import r2_score, mean_squared_error"
   ]
  },
  {
   "cell_type": "code",
   "execution_count": 20,
   "metadata": {},
   "outputs": [],
   "source": [
    "df=pd.read_csv(\"coin_data\",index_col=[0])"
   ]
  },
  {
   "cell_type": "code",
   "execution_count": 21,
   "metadata": {
    "scrolled": true
   },
   "outputs": [
    {
     "data": {
      "text/html": [
       "<div>\n",
       "<style scoped>\n",
       "    .dataframe tbody tr th:only-of-type {\n",
       "        vertical-align: middle;\n",
       "    }\n",
       "\n",
       "    .dataframe tbody tr th {\n",
       "        vertical-align: top;\n",
       "    }\n",
       "\n",
       "    .dataframe thead th {\n",
       "        text-align: right;\n",
       "    }\n",
       "</style>\n",
       "<table border=\"1\" class=\"dataframe\">\n",
       "  <thead>\n",
       "    <tr style=\"text-align: right;\">\n",
       "      <th></th>\n",
       "      <th>open</th>\n",
       "      <th>high</th>\n",
       "      <th>low</th>\n",
       "      <th>close</th>\n",
       "      <th>volume</th>\n",
       "      <th>PE_inc</th>\n",
       "    </tr>\n",
       "  </thead>\n",
       "  <tbody>\n",
       "    <tr>\n",
       "      <th>2023-09-26</th>\n",
       "      <td>-1.960013</td>\n",
       "      <td>-2.016807</td>\n",
       "      <td>-1.962381</td>\n",
       "      <td>-2.022373</td>\n",
       "      <td>-0.208034</td>\n",
       "      <td>0.309835</td>\n",
       "    </tr>\n",
       "    <tr>\n",
       "      <th>2023-09-25</th>\n",
       "      <td>-2.002925</td>\n",
       "      <td>-2.007101</td>\n",
       "      <td>-1.958703</td>\n",
       "      <td>-1.969635</td>\n",
       "      <td>-0.135334</td>\n",
       "      <td>-0.158388</td>\n",
       "    </tr>\n",
       "    <tr>\n",
       "      <th>2023-09-24</th>\n",
       "      <td>-1.950862</td>\n",
       "      <td>-1.955835</td>\n",
       "      <td>-1.954138</td>\n",
       "      <td>-2.006572</td>\n",
       "      <td>0.509842</td>\n",
       "      <td>1.228496</td>\n",
       "    </tr>\n",
       "    <tr>\n",
       "      <th>2023-09-23</th>\n",
       "      <td>-1.987105</td>\n",
       "      <td>-2.022431</td>\n",
       "      <td>-1.949934</td>\n",
       "      <td>-1.979360</td>\n",
       "      <td>0.231961</td>\n",
       "      <td>0.000673</td>\n",
       "    </tr>\n",
       "    <tr>\n",
       "      <th>2023-09-22</th>\n",
       "      <td>-1.960152</td>\n",
       "      <td>-2.018357</td>\n",
       "      <td>-1.995452</td>\n",
       "      <td>-2.036637</td>\n",
       "      <td>0.206258</td>\n",
       "      <td>-0.044906</td>\n",
       "    </tr>\n",
       "    <tr>\n",
       "      <th>...</th>\n",
       "      <td>...</td>\n",
       "      <td>...</td>\n",
       "      <td>...</td>\n",
       "      <td>...</td>\n",
       "      <td>...</td>\n",
       "      <td>...</td>\n",
       "    </tr>\n",
       "    <tr>\n",
       "      <th>2022-12-07</th>\n",
       "      <td>0.274655</td>\n",
       "      <td>0.218681</td>\n",
       "      <td>0.346968</td>\n",
       "      <td>0.272578</td>\n",
       "      <td>-0.883700</td>\n",
       "      <td>1.432658</td>\n",
       "    </tr>\n",
       "    <tr>\n",
       "      <th>2022-12-06</th>\n",
       "      <td>0.278075</td>\n",
       "      <td>0.197306</td>\n",
       "      <td>0.352975</td>\n",
       "      <td>0.272536</td>\n",
       "      <td>-1.264013</td>\n",
       "      <td>-0.671044</td>\n",
       "    </tr>\n",
       "    <tr>\n",
       "      <th>2022-12-05</th>\n",
       "      <td>0.278268</td>\n",
       "      <td>0.216351</td>\n",
       "      <td>0.280990</td>\n",
       "      <td>0.195993</td>\n",
       "      <td>-1.169575</td>\n",
       "      <td>0.917007</td>\n",
       "    </tr>\n",
       "    <tr>\n",
       "      <th>2022-12-04</th>\n",
       "      <td>0.201468</td>\n",
       "      <td>0.147832</td>\n",
       "      <td>0.230613</td>\n",
       "      <td>0.205878</td>\n",
       "      <td>-0.713666</td>\n",
       "      <td>-1.297390</td>\n",
       "    </tr>\n",
       "    <tr>\n",
       "      <th>2022-12-03</th>\n",
       "      <td>0.211135</td>\n",
       "      <td>0.140476</td>\n",
       "      <td>0.249661</td>\n",
       "      <td>0.186602</td>\n",
       "      <td>-0.954783</td>\n",
       "      <td>1.067075</td>\n",
       "    </tr>\n",
       "  </tbody>\n",
       "</table>\n",
       "<p>298 rows × 6 columns</p>\n",
       "</div>"
      ],
      "text/plain": [
       "                open      high       low     close    volume    PE_inc\n",
       "2023-09-26 -1.960013 -2.016807 -1.962381 -2.022373 -0.208034  0.309835\n",
       "2023-09-25 -2.002925 -2.007101 -1.958703 -1.969635 -0.135334 -0.158388\n",
       "2023-09-24 -1.950862 -1.955835 -1.954138 -2.006572  0.509842  1.228496\n",
       "2023-09-23 -1.987105 -2.022431 -1.949934 -1.979360  0.231961  0.000673\n",
       "2023-09-22 -1.960152 -2.018357 -1.995452 -2.036637  0.206258 -0.044906\n",
       "...              ...       ...       ...       ...       ...       ...\n",
       "2022-12-07  0.274655  0.218681  0.346968  0.272578 -0.883700  1.432658\n",
       "2022-12-06  0.278075  0.197306  0.352975  0.272536 -1.264013 -0.671044\n",
       "2022-12-05  0.278268  0.216351  0.280990  0.195993 -1.169575  0.917007\n",
       "2022-12-04  0.201468  0.147832  0.230613  0.205878 -0.713666 -1.297390\n",
       "2022-12-03  0.211135  0.140476  0.249661  0.186602 -0.954783  1.067075\n",
       "\n",
       "[298 rows x 6 columns]"
      ]
     },
     "execution_count": 21,
     "metadata": {},
     "output_type": "execute_result"
    }
   ],
   "source": []
  },
  {
   "cell_type": "code",
   "execution_count": 22,
   "metadata": {},
   "outputs": [],
   "source": [
    "train_X=df.iloc[:-98,:5]\n",
    "train_y=df.iloc[:-98,5]\n",
    "\n",
    "test_X=df.iloc[-98:,:5]\n",
    "test_y=df.iloc[-98:,5:]"
   ]
  },
  {
   "cell_type": "code",
   "execution_count": 23,
   "metadata": {},
   "outputs": [],
   "source": [
    "model =SVR(C= 1, gamma= 0.001, kernel= 'poly')\n",
    "model.fit(train_X,train_y)\n",
    "prediction=model.predict(test_X)           \n",
    "           "
   ]
  },
  {
   "cell_type": "code",
   "execution_count": 24,
   "metadata": {},
   "outputs": [
    {
     "data": {
      "text/plain": [
       "-0.006528604514232983"
      ]
     },
     "execution_count": 24,
     "metadata": {},
     "output_type": "execute_result"
    }
   ],
   "source": [
    "accuracy=r2_score(test_y,prediction)\n",
    "\n",
    "accuracy"
   ]
  },
  {
   "cell_type": "code",
   "execution_count": 11,
   "metadata": {},
   "outputs": [],
   "source": [
    "from sklearn.model_selection import GridSearchCV\n",
    "\n",
    "search_space ={'C':[1,2.3],\n",
    "              \"gamma\":[0.001,0.01,0.1,],\n",
    "              \"kernel\":[\"rbf\",\"linear\",\"poly\"]}\n"
   ]
  },
  {
   "cell_type": "code",
   "execution_count": 12,
   "metadata": {},
   "outputs": [
    {
     "data": {
      "text/plain": [
       "GridSearchCV(cv=None, error_score=nan,\n",
       "             estimator=SVR(C=1.0, cache_size=200, coef0=0.0, degree=3,\n",
       "                           epsilon=0.1, gamma='scale', kernel='rbf',\n",
       "                           max_iter=-1, shrinking=True, tol=0.001,\n",
       "                           verbose=False),\n",
       "             iid='deprecated', n_jobs=None,\n",
       "             param_grid={'C': [1, 2.3], 'gamma': [0.001, 0.01, 0.1],\n",
       "                         'kernel': ['rbf', 'linear', 'poly']},\n",
       "             pre_dispatch='2*n_jobs', refit=True, return_train_score=False,\n",
       "             scoring='r2', verbose=0)"
      ]
     },
     "execution_count": 12,
     "metadata": {},
     "output_type": "execute_result"
    }
   ],
   "source": [
    "GS = GridSearchCV(\n",
    "    estimator=model,\n",
    "    param_grid=search_space,\n",
    "    scoring=\"r2\"\n",
    "     )# prediction=model.predict(test_X)\n",
    "GS.fit(train_X,train_y)"
   ]
  },
  {
   "cell_type": "code",
   "execution_count": 14,
   "metadata": {},
   "outputs": [
    {
     "data": {
      "text/plain": [
       "{'C': 1, 'gamma': 0.001, 'kernel': 'poly'}"
      ]
     },
     "execution_count": 14,
     "metadata": {},
     "output_type": "execute_result"
    }
   ],
   "source": [
    "GS.best_params_"
   ]
  },
  {
   "cell_type": "code",
   "execution_count": null,
   "metadata": {},
   "outputs": [],
   "source": [
    "# acurracy=r2_score(test_y,prediction)\n",
    "# acurracy"
   ]
  },
  {
   "cell_type": "code",
   "execution_count": null,
   "metadata": {},
   "outputs": [],
   "source": [
    "# from sklearn.linear_model import LinearRegression"
   ]
  },
  {
   "cell_type": "code",
   "execution_count": null,
   "metadata": {},
   "outputs": [],
   "source": [
    "# model1=LinearRegression()\n",
    "# model1.fit(train_X,train_y)\n",
    "# prediction=model1.predict(test_X)"
   ]
  },
  {
   "cell_type": "code",
   "execution_count": null,
   "metadata": {},
   "outputs": [],
   "source": [
    "# acurracy=r2_score(test_y,prediction)\n",
    "# acurracy"
   ]
  },
  {
   "cell_type": "code",
   "execution_count": null,
   "metadata": {},
   "outputs": [],
   "source": []
  },
  {
   "cell_type": "code",
   "execution_count": null,
   "metadata": {},
   "outputs": [],
   "source": []
  }
 ],
 "metadata": {
  "kernelspec": {
   "display_name": "Python 3",
   "language": "python",
   "name": "python3"
  },
  "language_info": {
   "codemirror_mode": {
    "name": "ipython",
    "version": 3
   },
   "file_extension": ".py",
   "mimetype": "text/x-python",
   "name": "python",
   "nbconvert_exporter": "python",
   "pygments_lexer": "ipython3",
   "version": "3.7.6"
  }
 },
 "nbformat": 4,
 "nbformat_minor": 4
}
