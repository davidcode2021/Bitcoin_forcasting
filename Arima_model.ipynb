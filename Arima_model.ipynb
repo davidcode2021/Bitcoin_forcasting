{
 "cells": [
  {
   "cell_type": "code",
   "execution_count": 1,
   "metadata": {},
   "outputs": [],
   "source": [
    "import pandas as pd"
   ]
  },
  {
   "cell_type": "code",
   "execution_count": 2,
   "metadata": {},
   "outputs": [],
   "source": [
    "df=pd.read_csv(\"coin_data\")\n"
   ]
  },
  {
   "cell_type": "code",
   "execution_count": 3,
   "metadata": {},
   "outputs": [
    {
     "data": {
      "text/html": [
       "<div>\n",
       "<style scoped>\n",
       "    .dataframe tbody tr th:only-of-type {\n",
       "        vertical-align: middle;\n",
       "    }\n",
       "\n",
       "    .dataframe tbody tr th {\n",
       "        vertical-align: top;\n",
       "    }\n",
       "\n",
       "    .dataframe thead th {\n",
       "        text-align: right;\n",
       "    }\n",
       "</style>\n",
       "<table border=\"1\" class=\"dataframe\">\n",
       "  <thead>\n",
       "    <tr style=\"text-align: right;\">\n",
       "      <th></th>\n",
       "      <th>Unnamed: 0</th>\n",
       "      <th>open</th>\n",
       "      <th>high</th>\n",
       "      <th>low</th>\n",
       "      <th>close</th>\n",
       "      <th>volume</th>\n",
       "      <th>PE_inc</th>\n",
       "    </tr>\n",
       "  </thead>\n",
       "  <tbody>\n",
       "    <tr>\n",
       "      <th>0</th>\n",
       "      <td>2023-09-26</td>\n",
       "      <td>-1.960013</td>\n",
       "      <td>-2.016807</td>\n",
       "      <td>-1.962381</td>\n",
       "      <td>-2.022373</td>\n",
       "      <td>-0.208034</td>\n",
       "      <td>0.309835</td>\n",
       "    </tr>\n",
       "    <tr>\n",
       "      <th>1</th>\n",
       "      <td>2023-09-25</td>\n",
       "      <td>-2.002925</td>\n",
       "      <td>-2.007101</td>\n",
       "      <td>-1.958703</td>\n",
       "      <td>-1.969635</td>\n",
       "      <td>-0.135334</td>\n",
       "      <td>-0.158388</td>\n",
       "    </tr>\n",
       "    <tr>\n",
       "      <th>2</th>\n",
       "      <td>2023-09-24</td>\n",
       "      <td>-1.950862</td>\n",
       "      <td>-1.955835</td>\n",
       "      <td>-1.954138</td>\n",
       "      <td>-2.006572</td>\n",
       "      <td>0.509842</td>\n",
       "      <td>1.228496</td>\n",
       "    </tr>\n",
       "    <tr>\n",
       "      <th>3</th>\n",
       "      <td>2023-09-23</td>\n",
       "      <td>-1.987105</td>\n",
       "      <td>-2.022431</td>\n",
       "      <td>-1.949934</td>\n",
       "      <td>-1.979360</td>\n",
       "      <td>0.231961</td>\n",
       "      <td>0.000673</td>\n",
       "    </tr>\n",
       "    <tr>\n",
       "      <th>4</th>\n",
       "      <td>2023-09-22</td>\n",
       "      <td>-1.960152</td>\n",
       "      <td>-2.018357</td>\n",
       "      <td>-1.995452</td>\n",
       "      <td>-2.036637</td>\n",
       "      <td>0.206258</td>\n",
       "      <td>-0.044906</td>\n",
       "    </tr>\n",
       "    <tr>\n",
       "      <th>...</th>\n",
       "      <td>...</td>\n",
       "      <td>...</td>\n",
       "      <td>...</td>\n",
       "      <td>...</td>\n",
       "      <td>...</td>\n",
       "      <td>...</td>\n",
       "      <td>...</td>\n",
       "    </tr>\n",
       "    <tr>\n",
       "      <th>293</th>\n",
       "      <td>2022-12-07</td>\n",
       "      <td>0.274655</td>\n",
       "      <td>0.218681</td>\n",
       "      <td>0.346968</td>\n",
       "      <td>0.272578</td>\n",
       "      <td>-0.883700</td>\n",
       "      <td>1.432658</td>\n",
       "    </tr>\n",
       "    <tr>\n",
       "      <th>294</th>\n",
       "      <td>2022-12-06</td>\n",
       "      <td>0.278075</td>\n",
       "      <td>0.197306</td>\n",
       "      <td>0.352975</td>\n",
       "      <td>0.272536</td>\n",
       "      <td>-1.264013</td>\n",
       "      <td>-0.671044</td>\n",
       "    </tr>\n",
       "    <tr>\n",
       "      <th>295</th>\n",
       "      <td>2022-12-05</td>\n",
       "      <td>0.278268</td>\n",
       "      <td>0.216351</td>\n",
       "      <td>0.280990</td>\n",
       "      <td>0.195993</td>\n",
       "      <td>-1.169575</td>\n",
       "      <td>0.917007</td>\n",
       "    </tr>\n",
       "    <tr>\n",
       "      <th>296</th>\n",
       "      <td>2022-12-04</td>\n",
       "      <td>0.201468</td>\n",
       "      <td>0.147832</td>\n",
       "      <td>0.230613</td>\n",
       "      <td>0.205878</td>\n",
       "      <td>-0.713666</td>\n",
       "      <td>-1.297390</td>\n",
       "    </tr>\n",
       "    <tr>\n",
       "      <th>297</th>\n",
       "      <td>2022-12-03</td>\n",
       "      <td>0.211135</td>\n",
       "      <td>0.140476</td>\n",
       "      <td>0.249661</td>\n",
       "      <td>0.186602</td>\n",
       "      <td>-0.954783</td>\n",
       "      <td>1.067075</td>\n",
       "    </tr>\n",
       "  </tbody>\n",
       "</table>\n",
       "<p>298 rows × 7 columns</p>\n",
       "</div>"
      ],
      "text/plain": [
       "     Unnamed: 0      open      high       low     close    volume    PE_inc\n",
       "0    2023-09-26 -1.960013 -2.016807 -1.962381 -2.022373 -0.208034  0.309835\n",
       "1    2023-09-25 -2.002925 -2.007101 -1.958703 -1.969635 -0.135334 -0.158388\n",
       "2    2023-09-24 -1.950862 -1.955835 -1.954138 -2.006572  0.509842  1.228496\n",
       "3    2023-09-23 -1.987105 -2.022431 -1.949934 -1.979360  0.231961  0.000673\n",
       "4    2023-09-22 -1.960152 -2.018357 -1.995452 -2.036637  0.206258 -0.044906\n",
       "..          ...       ...       ...       ...       ...       ...       ...\n",
       "293  2022-12-07  0.274655  0.218681  0.346968  0.272578 -0.883700  1.432658\n",
       "294  2022-12-06  0.278075  0.197306  0.352975  0.272536 -1.264013 -0.671044\n",
       "295  2022-12-05  0.278268  0.216351  0.280990  0.195993 -1.169575  0.917007\n",
       "296  2022-12-04  0.201468  0.147832  0.230613  0.205878 -0.713666 -1.297390\n",
       "297  2022-12-03  0.211135  0.140476  0.249661  0.186602 -0.954783  1.067075\n",
       "\n",
       "[298 rows x 7 columns]"
      ]
     },
     "execution_count": 3,
     "metadata": {},
     "output_type": "execute_result"
    }
   ],
   "source": [
    "df"
   ]
  },
  {
   "cell_type": "code",
   "execution_count": 4,
   "metadata": {},
   "outputs": [],
   "source": [
    "df.rename(columns={\"Unnamed: 0\":\"date\"},inplace=True)"
   ]
  },
  {
   "cell_type": "code",
   "execution_count": 5,
   "metadata": {},
   "outputs": [
    {
     "data": {
      "text/html": [
       "<div>\n",
       "<style scoped>\n",
       "    .dataframe tbody tr th:only-of-type {\n",
       "        vertical-align: middle;\n",
       "    }\n",
       "\n",
       "    .dataframe tbody tr th {\n",
       "        vertical-align: top;\n",
       "    }\n",
       "\n",
       "    .dataframe thead th {\n",
       "        text-align: right;\n",
       "    }\n",
       "</style>\n",
       "<table border=\"1\" class=\"dataframe\">\n",
       "  <thead>\n",
       "    <tr style=\"text-align: right;\">\n",
       "      <th></th>\n",
       "      <th>open</th>\n",
       "      <th>high</th>\n",
       "      <th>low</th>\n",
       "      <th>close</th>\n",
       "      <th>volume</th>\n",
       "      <th>PE_inc</th>\n",
       "    </tr>\n",
       "    <tr>\n",
       "      <th>date</th>\n",
       "      <th></th>\n",
       "      <th></th>\n",
       "      <th></th>\n",
       "      <th></th>\n",
       "      <th></th>\n",
       "      <th></th>\n",
       "    </tr>\n",
       "  </thead>\n",
       "  <tbody>\n",
       "    <tr>\n",
       "      <th>2023-09-26</th>\n",
       "      <td>-1.960013</td>\n",
       "      <td>-2.016807</td>\n",
       "      <td>-1.962381</td>\n",
       "      <td>-2.022373</td>\n",
       "      <td>-0.208034</td>\n",
       "      <td>0.309835</td>\n",
       "    </tr>\n",
       "    <tr>\n",
       "      <th>2023-09-25</th>\n",
       "      <td>-2.002925</td>\n",
       "      <td>-2.007101</td>\n",
       "      <td>-1.958703</td>\n",
       "      <td>-1.969635</td>\n",
       "      <td>-0.135334</td>\n",
       "      <td>-0.158388</td>\n",
       "    </tr>\n",
       "    <tr>\n",
       "      <th>2023-09-24</th>\n",
       "      <td>-1.950862</td>\n",
       "      <td>-1.955835</td>\n",
       "      <td>-1.954138</td>\n",
       "      <td>-2.006572</td>\n",
       "      <td>0.509842</td>\n",
       "      <td>1.228496</td>\n",
       "    </tr>\n",
       "    <tr>\n",
       "      <th>2023-09-23</th>\n",
       "      <td>-1.987105</td>\n",
       "      <td>-2.022431</td>\n",
       "      <td>-1.949934</td>\n",
       "      <td>-1.979360</td>\n",
       "      <td>0.231961</td>\n",
       "      <td>0.000673</td>\n",
       "    </tr>\n",
       "    <tr>\n",
       "      <th>2023-09-22</th>\n",
       "      <td>-1.960152</td>\n",
       "      <td>-2.018357</td>\n",
       "      <td>-1.995452</td>\n",
       "      <td>-2.036637</td>\n",
       "      <td>0.206258</td>\n",
       "      <td>-0.044906</td>\n",
       "    </tr>\n",
       "    <tr>\n",
       "      <th>...</th>\n",
       "      <td>...</td>\n",
       "      <td>...</td>\n",
       "      <td>...</td>\n",
       "      <td>...</td>\n",
       "      <td>...</td>\n",
       "      <td>...</td>\n",
       "    </tr>\n",
       "    <tr>\n",
       "      <th>2022-12-07</th>\n",
       "      <td>0.274655</td>\n",
       "      <td>0.218681</td>\n",
       "      <td>0.346968</td>\n",
       "      <td>0.272578</td>\n",
       "      <td>-0.883700</td>\n",
       "      <td>1.432658</td>\n",
       "    </tr>\n",
       "    <tr>\n",
       "      <th>2022-12-06</th>\n",
       "      <td>0.278075</td>\n",
       "      <td>0.197306</td>\n",
       "      <td>0.352975</td>\n",
       "      <td>0.272536</td>\n",
       "      <td>-1.264013</td>\n",
       "      <td>-0.671044</td>\n",
       "    </tr>\n",
       "    <tr>\n",
       "      <th>2022-12-05</th>\n",
       "      <td>0.278268</td>\n",
       "      <td>0.216351</td>\n",
       "      <td>0.280990</td>\n",
       "      <td>0.195993</td>\n",
       "      <td>-1.169575</td>\n",
       "      <td>0.917007</td>\n",
       "    </tr>\n",
       "    <tr>\n",
       "      <th>2022-12-04</th>\n",
       "      <td>0.201468</td>\n",
       "      <td>0.147832</td>\n",
       "      <td>0.230613</td>\n",
       "      <td>0.205878</td>\n",
       "      <td>-0.713666</td>\n",
       "      <td>-1.297390</td>\n",
       "    </tr>\n",
       "    <tr>\n",
       "      <th>2022-12-03</th>\n",
       "      <td>0.211135</td>\n",
       "      <td>0.140476</td>\n",
       "      <td>0.249661</td>\n",
       "      <td>0.186602</td>\n",
       "      <td>-0.954783</td>\n",
       "      <td>1.067075</td>\n",
       "    </tr>\n",
       "  </tbody>\n",
       "</table>\n",
       "<p>298 rows × 6 columns</p>\n",
       "</div>"
      ],
      "text/plain": [
       "                open      high       low     close    volume    PE_inc\n",
       "date                                                                  \n",
       "2023-09-26 -1.960013 -2.016807 -1.962381 -2.022373 -0.208034  0.309835\n",
       "2023-09-25 -2.002925 -2.007101 -1.958703 -1.969635 -0.135334 -0.158388\n",
       "2023-09-24 -1.950862 -1.955835 -1.954138 -2.006572  0.509842  1.228496\n",
       "2023-09-23 -1.987105 -2.022431 -1.949934 -1.979360  0.231961  0.000673\n",
       "2023-09-22 -1.960152 -2.018357 -1.995452 -2.036637  0.206258 -0.044906\n",
       "...              ...       ...       ...       ...       ...       ...\n",
       "2022-12-07  0.274655  0.218681  0.346968  0.272578 -0.883700  1.432658\n",
       "2022-12-06  0.278075  0.197306  0.352975  0.272536 -1.264013 -0.671044\n",
       "2022-12-05  0.278268  0.216351  0.280990  0.195993 -1.169575  0.917007\n",
       "2022-12-04  0.201468  0.147832  0.230613  0.205878 -0.713666 -1.297390\n",
       "2022-12-03  0.211135  0.140476  0.249661  0.186602 -0.954783  1.067075\n",
       "\n",
       "[298 rows x 6 columns]"
      ]
     },
     "execution_count": 5,
     "metadata": {},
     "output_type": "execute_result"
    }
   ],
   "source": [
    "df.index=pd.to_datetime(df[\"date\"])\n",
    "df.drop(\"date\",axis=1)"
   ]
  },
  {
   "cell_type": "code",
   "execution_count": 6,
   "metadata": {},
   "outputs": [],
   "source": [
    "df1=df[[\"close\"]].copy()"
   ]
  },
  {
   "cell_type": "code",
   "execution_count": 7,
   "metadata": {},
   "outputs": [
    {
     "data": {
      "text/plain": [
       "<matplotlib.axes._subplots.AxesSubplot at 0x7f4879ac9550>"
      ]
     },
     "execution_count": 7,
     "metadata": {},
     "output_type": "execute_result"
    },
    {
     "data": {
      "image/png": "[encoded data removed]",
      "text/plain": [
       "<Figure size 432x288 with 1 Axes>"
      ]
     },
     "metadata": {
      "needs_background": "light"
     },
     "output_type": "display_data"
    }
   ],
   "source": [
    "df1.plot()"
   ]
  },
  {
   "cell_type": "markdown",
   "metadata": {},
   "source": [
    "# by viewing the data, it shows that it is not stationary"
   ]
  },
  {
   "cell_type": "markdown",
   "metadata": {},
   "source": [
    "# confirming this using dukeyfuller test"
   ]
  },
  {
   "cell_type": "code",
   "execution_count": 8,
   "metadata": {},
   "outputs": [],
   "source": [
    "from statsmodels.tsa.stattools import adfuller"
   ]
  },
  {
   "cell_type": "code",
   "execution_count": 9,
   "metadata": {},
   "outputs": [],
   "source": [
    "result=adfuller(df1)"
   ]
  },
  {
   "cell_type": "code",
   "execution_count": 10,
   "metadata": {},
   "outputs": [
    {
     "data": {
      "text/plain": [
       "0.2708529624044076"
      ]
     },
     "execution_count": 10,
     "metadata": {},
     "output_type": "execute_result"
    }
   ],
   "source": [
    "result[1]"
   ]
  },
  {
   "cell_type": "markdown",
   "metadata": {},
   "source": [
    "# using the difference method to make it stationary"
   ]
  },
  {
   "cell_type": "code",
   "execution_count": 11,
   "metadata": {},
   "outputs": [],
   "source": [
    "df1_diff=df1-df1.shift(95)"
   ]
  },
  {
   "cell_type": "code",
   "execution_count": 12,
   "metadata": {},
   "outputs": [
    {
     "data": {
      "text/plain": [
       "<matplotlib.axes._subplots.AxesSubplot at 0x7f486b5fc250>"
      ]
     },
     "execution_count": 12,
     "metadata": {},
     "output_type": "execute_result"
    },
    {
     "data": {
      "image/png": "[encoded data removed]",
      "text/plain": [
       "<Figure size 432x288 with 1 Axes>"
      ]
     },
     "metadata": {
      "needs_background": "light"
     },
     "output_type": "display_data"
    }
   ],
   "source": [
    "df1_diff.dropna(inplace=True)\n",
    "df1_diff.plot()"
   ]
  },
  {
   "cell_type": "markdown",
   "metadata": {},
   "source": [
    "# using fuller test"
   ]
  },
  {
   "cell_type": "code",
   "execution_count": 13,
   "metadata": {},
   "outputs": [
    {
     "data": {
      "text/plain": [
       "0.812436103590512"
      ]
     },
     "execution_count": 13,
     "metadata": {},
     "output_type": "execute_result"
    }
   ],
   "source": [
    "result=adfuller(df1_diff)\n",
    "result[1]"
   ]
  },
  {
   "cell_type": "code",
   "execution_count": 14,
   "metadata": {},
   "outputs": [],
   "source": [
    "# from pmdarima import auto_arima\n",
    "# arma_order=auto_arima(df1_diff,trace=True, suppres_warnings=True)\n",
    "# arma_order.summary()"
   ]
  },
  {
   "cell_type": "code",
   "execution_count": 15,
   "metadata": {},
   "outputs": [
    {
     "data": {
      "text/html": [
       "<div>\n",
       "<style scoped>\n",
       "    .dataframe tbody tr th:only-of-type {\n",
       "        vertical-align: middle;\n",
       "    }\n",
       "\n",
       "    .dataframe tbody tr th {\n",
       "        vertical-align: top;\n",
       "    }\n",
       "\n",
       "    .dataframe thead th {\n",
       "        text-align: right;\n",
       "    }\n",
       "</style>\n",
       "<table border=\"1\" class=\"dataframe\">\n",
       "  <thead>\n",
       "    <tr style=\"text-align: right;\">\n",
       "      <th></th>\n",
       "      <th>close</th>\n",
       "    </tr>\n",
       "    <tr>\n",
       "      <th>date</th>\n",
       "      <th></th>\n",
       "    </tr>\n",
       "  </thead>\n",
       "  <tbody>\n",
       "    <tr>\n",
       "      <th>2023-03-10</th>\n",
       "      <td>1.090704</td>\n",
       "    </tr>\n",
       "    <tr>\n",
       "      <th>2023-03-09</th>\n",
       "      <td>1.063412</td>\n",
       "    </tr>\n",
       "    <tr>\n",
       "      <th>2023-03-08</th>\n",
       "      <td>1.249258</td>\n",
       "    </tr>\n",
       "    <tr>\n",
       "      <th>2023-03-07</th>\n",
       "      <td>1.214429</td>\n",
       "    </tr>\n",
       "    <tr>\n",
       "      <th>2023-03-06</th>\n",
       "      <td>1.198191</td>\n",
       "    </tr>\n",
       "    <tr>\n",
       "      <th>...</th>\n",
       "      <td>...</td>\n",
       "    </tr>\n",
       "    <tr>\n",
       "      <th>2022-12-07</th>\n",
       "      <td>0.272578</td>\n",
       "    </tr>\n",
       "    <tr>\n",
       "      <th>2022-12-06</th>\n",
       "      <td>0.272536</td>\n",
       "    </tr>\n",
       "    <tr>\n",
       "      <th>2022-12-05</th>\n",
       "      <td>0.195993</td>\n",
       "    </tr>\n",
       "    <tr>\n",
       "      <th>2022-12-04</th>\n",
       "      <td>0.205878</td>\n",
       "    </tr>\n",
       "    <tr>\n",
       "      <th>2022-12-03</th>\n",
       "      <td>0.186602</td>\n",
       "    </tr>\n",
       "  </tbody>\n",
       "</table>\n",
       "<p>98 rows × 1 columns</p>\n",
       "</div>"
      ],
      "text/plain": [
       "               close\n",
       "date                \n",
       "2023-03-10  1.090704\n",
       "2023-03-09  1.063412\n",
       "2023-03-08  1.249258\n",
       "2023-03-07  1.214429\n",
       "2023-03-06  1.198191\n",
       "...              ...\n",
       "2022-12-07  0.272578\n",
       "2022-12-06  0.272536\n",
       "2022-12-05  0.195993\n",
       "2022-12-04  0.205878\n",
       "2022-12-03  0.186602\n",
       "\n",
       "[98 rows x 1 columns]"
      ]
     },
     "execution_count": 15,
     "metadata": {},
     "output_type": "execute_result"
    }
   ],
   "source": [
    "train_data=df1.iloc[:200]\n",
    "test_data=df1.iloc[200:]\n",
    "# len(test_data),len(train_data)\n",
    "test_data"
   ]
  },
  {
   "cell_type": "code",
   "execution_count": 16,
   "metadata": {},
   "outputs": [],
   "source": [
    "from statsmodels.tsa.arima.model import ARIMA"
   ]
  },
  {
   "cell_type": "code",
   "execution_count": 17,
   "metadata": {},
   "outputs": [
    {
     "name": "stderr",
     "output_type": "stream",
     "text": [
      "/home/david/anaconda3/lib/python3.7/site-packages/statsmodels/tsa/base/tsa_model.py:471: ValueWarning: No frequency information was provided, so inferred frequency -1D will be used.\n",
      "  self._init_dates(dates, freq)\n",
      "/home/david/anaconda3/lib/python3.7/site-packages/statsmodels/tsa/base/tsa_model.py:471: ValueWarning: A date index has been provided, but it is not monotonic and so will be ignored when e.g. forecasting.\n",
      "  self._init_dates(dates, freq)\n",
      "/home/david/anaconda3/lib/python3.7/site-packages/statsmodels/tsa/base/tsa_model.py:471: ValueWarning: No frequency information was provided, so inferred frequency -1D will be used.\n",
      "  self._init_dates(dates, freq)\n",
      "/home/david/anaconda3/lib/python3.7/site-packages/statsmodels/tsa/base/tsa_model.py:471: ValueWarning: A date index has been provided, but it is not monotonic and so will be ignored when e.g. forecasting.\n",
      "  self._init_dates(dates, freq)\n",
      "/home/david/anaconda3/lib/python3.7/site-packages/statsmodels/tsa/base/tsa_model.py:471: ValueWarning: No frequency information was provided, so inferred frequency -1D will be used.\n",
      "  self._init_dates(dates, freq)\n",
      "/home/david/anaconda3/lib/python3.7/site-packages/statsmodels/tsa/base/tsa_model.py:471: ValueWarning: A date index has been provided, but it is not monotonic and so will be ignored when e.g. forecasting.\n",
      "  self._init_dates(dates, freq)\n"
     ]
    }
   ],
   "source": [
    "model=ARIMA(df1,order=(0,0,0))\n",
    "model_fit=model.fit()"
   ]
  },
  {
   "cell_type": "code",
   "execution_count": 18,
   "metadata": {},
   "outputs": [],
   "source": [
    "# model_fit.summary()"
   ]
  },
  {
   "cell_type": "code",
   "execution_count": 19,
   "metadata": {},
   "outputs": [
    {
     "name": "stderr",
     "output_type": "stream",
     "text": [
      "/home/david/anaconda3/lib/python3.7/site-packages/ipykernel_launcher.py:4: SettingWithCopyWarning: \n",
      "A value is trying to be set on a copy of a slice from a DataFrame.\n",
      "Try using .loc[row_indexer,col_indexer] = value instead\n",
      "\n",
      "See the caveats in the documentation: https://pandas.pydata.org/pandas-docs/stable/user_guide/indexing.html#returning-a-view-versus-a-copy\n",
      "  after removing the cwd from sys.path.\n"
     ]
    }
   ],
   "source": [
    "start=len(train_data)\n",
    "end=len(train_data)+len(test_data)\n",
    "\n",
    "test_data[\"forcast\"]=model_fit.predict(start=start, end=end-1,dynamic=True)"
   ]
  },
  {
   "cell_type": "code",
   "execution_count": 20,
   "metadata": {},
   "outputs": [
    {
     "data": {
      "text/plain": [
       "<matplotlib.axes._subplots.AxesSubplot at 0x7f48667d6550>"
      ]
     },
     "execution_count": 20,
     "metadata": {},
     "output_type": "execute_result"
    },
    {
     "data": {
      "image/png": "[encoded data removed]",
      "text/plain": [
       "<Figure size 432x288 with 1 Axes>"
      ]
     },
     "metadata": {
      "needs_background": "light"
     },
     "output_type": "display_data"
    }
   ],
   "source": [
    "test_data.plot()"
   ]
  },
  {
   "cell_type": "code",
   "execution_count": null,
   "metadata": {},
   "outputs": [],
   "source": []
  }
 ],
 "metadata": {
  "kernelspec": {
   "display_name": "Python 3",
   "language": "python",
   "name": "python3"
  },
  "language_info": {
   "codemirror_mode": {
    "name": "ipython",
    "version": 3
   },
   "file_extension": ".py",
   "mimetype": "text/x-python",
   "name": "python",
   "nbconvert_exporter": "python",
   "pygments_lexer": "ipython3",
   "version": "3.7.6"
  }
 },
 "nbformat": 4,
 "nbformat_minor": 4
}
